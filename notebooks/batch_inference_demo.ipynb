{
 "cells": [
  {
   "cell_type": "code",
   "execution_count": 1,
   "metadata": {},
   "outputs": [
    {
     "name": "stdout",
     "output_type": "stream",
     "text": [
      "Loaded as API: http://127.0.0.1:7888/ ✔\n",
      "Running on local URL:  http://127.0.0.1:7861\n",
      "Running on public URL: https://5f5371a5d5baf9860d.gradio.live\n",
      "\n",
      "This share link expires in 72 hours. For free permanent hosting and GPU upgrades, run `gradio deploy` from Terminal to deploy to Spaces (https://huggingface.co/spaces)\n"
     ]
    },
    {
     "data": {
      "text/html": [
       "<div><iframe src=\"https://5f5371a5d5baf9860d.gradio.live\" width=\"100%\" height=\"500\" allow=\"autoplay; camera; microphone; clipboard-read; clipboard-write;\" frameborder=\"0\" allowfullscreen></iframe></div>"
      ],
      "text/plain": [
       "<IPython.core.display.HTML object>"
      ]
     },
     "metadata": {},
     "output_type": "display_data"
    }
   ],
   "source": [
    "import gradio as gr\n",
    "from gradio_client import Client\n",
    "from PIL import Image\n",
    "import os\n",
    "import time\n",
    "\n",
    "client = Client(\"http://127.0.0.1:7888\")\n",
    "os.makedirs(\"../generated_images\", exist_ok=True)\n",
    "\n",
    "\n",
    "def generate_images(prompts, ckpt_path):    \n",
    "    results = []\n",
    "\n",
    "    prompt_list = [i for i in prompts.split(\"\\n\") if i]\n",
    "    \n",
    "    for prompt in prompt_list:\n",
    "        result = client.predict(\n",
    "            selection=\"Dreambooth\",\n",
    "            prompt=prompt,\n",
    "            neg_prompt=\"worst quality, bad quality, 错误的眼睛，糟糕的人脸，毁容，糟糕的艺术，变形，多余的肢体，模糊的颜色，模糊，重复，病态，残缺\",\n",
    "            height=1024,\n",
    "            weight=1024,\n",
    "            steps=40,\n",
    "            cfg_scale=5,\n",
    "            seed=8888,\n",
    "            model_path=\"/lv0/kohya_ss_hydit/models/hydit_v1.2_kohya/t2i\",\n",
    "            ckpt_path=ckpt_path,\n",
    "            model_version=\"1.2\",\n",
    "            api_name=\"/predict\"\n",
    "        )\n",
    "        image_path = result  # Assuming 'generated_image' is the key for the image path in the result\n",
    "        time_str = time.strftime(\"%Y%m%d-%H%M%S\")\n",
    "        new_img_path = f\"{time_str}_{prompt.replace(' ', '_').replace(',', '')[:10]}.png\"\n",
    "        os.system(f\"cp {image_path} ../generated_images/{new_img_path}\")\n",
    "        image = Image.open(image_path)        \n",
    "        results.append(image)\n",
    "\n",
    "    return results\n",
    "\n",
    "\n",
    "prompts = \"\"\"\n",
    "yor briar, 1girl, solo, hair ornament, high heels, hair flower, thigh boots, brown hair, petals, high heel boots, black legwear, black footwear, long hair, standing on one leg, red flower, black dress, leg up, breasts, indoors, window, jewelry, earrings, red rose, brown eyes, looking at viewer, smile, black hair, bangs, weapon, holding weapon, two-sided fabric, red eyes, two-sided dress, stained glass, sidelocks, gold hairband, bare shoulders, black thighhighs, holding dagger, gloves, dual wielding, holding knife, sensitive, 2020s, best quality, absurdres​\n",
    "1girl, solo, long hair, white background, purple eyes, black hair, simple background, jewelry, signature, earrings, black footwear, full body, hair ornament, hairclip, long sleeves, standing, looking at viewer, loose socks, white legwear, shoes, white shirt, bangs, shoulder cutout, multicolored hair, closed mouth, virtual youtuber, blue hair, clothing cutout, hair between eyes, black dress, black skirt, ascot, frills, sleeves past wrists, gradient hair, straight-on, white neckwear, brooch, white hairband, buttons, bare shoulders, purple hair, blush, white socks, parted lips, sensitive, 2020s, best quality, absurdres​\n",
    "1girl, purple hair, blush, white socks, parted lips, 2020s, best quality, absurdres​\n",
    "a girl with a yellow hat and a yellow shirt, sitting, white legwear, uniform, jacket, thighhighs, bare shoulders, high contrast, paint splatter, 2020s, best quality, absurdres​\n",
    "komeiji koishi, 1girl, third eye, hydrangea, looking at viewer, bare shoulders, floral print, eyebrows visible through hair, heart of string, sensitive, best quality​\n",
    "liz and the blue bird, mizore yoroizuka, best quality, sensitive, 1girl, purple eyes, long hair, holding food, looking at viewer, bangs, upper body, outdoors, from side, black hair, white background, simple background, white shirt, soft serve, highres, 2020s​\n",
    "hololive, rurudo, tokoyami towa, good quality​\n",
    "hatsune miku, full body, drinking water, looking at viewer, best quality, 2020s\n",
    "\"\"\".strip()\n",
    "\n",
    "# Define Gradio interface\n",
    "interface = gr.Interface(\n",
    "    fn=generate_images,\n",
    "    inputs=[\n",
    "        gr.Textbox(lines=10, placeholder=\"Enter prompts here, one per line.\", label=\"Prompts\", value=prompts),\n",
    "        gr.Textbox(placeholder=\"Enter checkpoint path.\", label=\"Checkpoint Path\", value=\"/lv0/kohya_ss_hydit/checkpoints/last-step00003500.ckpt\")\n",
    "    ],\n",
    "    outputs=gr.Gallery(label=\"Generated Images\"),\n",
    "    title=\"Image Generation\",\n",
    "    description=\"Generate images from prompts using a Gradio API.\"\n",
    ")\n",
    "\n",
    "# Launch the interface\n",
    "if __name__ == \"__main__\":\n",
    "    interface.launch(share=True)"
   ]
  }
 ],
 "metadata": {
  "kernelspec": {
   "display_name": "base",
   "language": "python",
   "name": "python3"
  },
  "language_info": {
   "codemirror_mode": {
    "name": "ipython",
    "version": 3
   },
   "file_extension": ".py",
   "mimetype": "text/x-python",
   "name": "python",
   "nbconvert_exporter": "python",
   "pygments_lexer": "ipython3",
   "version": "3.10.13"
  }
 },
 "nbformat": 4,
 "nbformat_minor": 2
}
